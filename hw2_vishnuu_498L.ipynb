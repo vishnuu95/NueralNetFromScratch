{
  "nbformat": 4,
  "nbformat_minor": 0,
  "metadata": {
    "kernelspec": {
      "display_name": "Python 3",
      "language": "python",
      "name": "python3"
    },
    "language_info": {
      "codemirror_mode": {
        "name": "ipython",
        "version": 3
      },
      "file_extension": ".py",
      "mimetype": "text/x-python",
      "name": "python",
      "nbconvert_exporter": "python",
      "pygments_lexer": "ipython3",
      "version": "3.5.2"
    },
    "colab": {
      "name": "hw2.ipynb",
      "provenance": [],
      "collapsed_sections": [
        "tS6mW2khSrMg"
      ]
    }
  },
  "cells": [
    {
      "cell_type": "markdown",
      "metadata": {
        "id": "kVjO0_i3SrKS",
        "colab_type": "text"
      },
      "source": [
        "# Basic Instructions\n",
        "\n",
        "1. Enter your Name and UID in the provided space.\n",
        "2. Do the assignment in the notebook itself\n",
        "3. you are free to use Google Colab\n"
      ]
    },
    {
      "cell_type": "markdown",
      "metadata": {
        "id": "-bg7A1CiSrKW",
        "colab_type": "text"
      },
      "source": [
        "Name:  **Vishnuu Appaya Dhanabalan**  \n",
        "UID:  **116873314**\n",
        "\n",
        "*Note:* The 3 excercises' answers are written in the notebook itself. Please find them below.   "
      ]
    },
    {
      "cell_type": "markdown",
      "metadata": {
        "id": "-N6CyNXeSrKa",
        "colab_type": "text"
      },
      "source": [
        "In the first part, you will implement all the functions required to build a two layer neural network.\n",
        "In the next part, you will use these functions for image and text classification. Provide your code at the appropriate placeholders.\n",
        "\n",
        "%########################### RESULTS ################################% \\\\\n",
        "Using the following hyper parameters(for movie reviews): \\\\\n",
        "- Weight init = np.random.rand(n_h, n_x)/(n_h*n_x)\n",
        "- Learning rate - 0.013\n",
        "- Epochs - 2500\n",
        "- Decay - 10% \n",
        "- Training Acc - 0.981 \n",
        "- Test accuracy - 0.815"
      ]
    },
    {
      "cell_type": "markdown",
      "metadata": {
        "id": "GP4YB4g6SrKd",
        "colab_type": "text"
      },
      "source": [
        "## 1. Packages"
      ]
    },
    {
      "cell_type": "code",
      "metadata": {
        "id": "kP2IqHxYSrKg",
        "colab_type": "code",
        "colab": {}
      },
      "source": [
        "import numpy as np\n",
        "import matplotlib.pyplot as plt\n",
        "import h5py\n",
        "import scipy\n",
        "from PIL import Image\n",
        "from scipy import ndimage\n",
        "!apt-get install texlive texlive-xetex texlive-latex-extra pandoc\n",
        "!pip install pypandoc\n"
      ],
      "execution_count": 0,
      "outputs": []
    },
    {
      "cell_type": "markdown",
      "metadata": {
        "id": "jgBfBzyvSrKr",
        "colab_type": "text"
      },
      "source": [
        "## 2. Layer Initialization"
      ]
    },
    {
      "cell_type": "markdown",
      "metadata": {
        "id": "lvX3TxoxSrKt",
        "colab_type": "text"
      },
      "source": [
        "**Exercise:** Create and initialize the parameters of the 2-layer neural network. Use random initialization for the weight matrices and zero initialization for the biases."
      ]
    },
    {
      "cell_type": "code",
      "metadata": {
        "id": "S1y3sOrHSrKv",
        "colab_type": "code",
        "colab": {}
      },
      "source": [
        "def initialize_parameters(n_x, n_h, n_y):\n",
        "    \"\"\"\n",
        "    Argument:\n",
        "    n_x -- size of the input layer\n",
        "    n_h -- size of the hidden layer\n",
        "    n_y -- size of the output layer\n",
        "    \n",
        "    Returns:\n",
        "    parameters -- python dictionary containing your parameters:\n",
        "                    W1 -- weight matrix of shape (n_h, n_x)\n",
        "                    b1 -- bias vector of shape (n_h, 1)\n",
        "                    W2 -- weight matrix of shape (n_y, n_h)\n",
        "                    b2 -- bias vector of shape (n_y, 1)\n",
        "    \"\"\"\n",
        "    \n",
        "    np.random.seed(1)\n",
        "    \n",
        "    ### START CODE HERE ### (≈ 4 lines of code)\n",
        "    W1 = np.random.rand(n_h, n_x)/(n_h*n_x)\n",
        "    b1 = np.random.rand(n_h, 1)/(n_h)\n",
        "    W2 = np.random.rand(n_y, n_h)/(n_h*n_y)\n",
        "    b2 = np.random.rand(n_y, 1)/(n_y)\n",
        "    ### END CODE HERE ###\n",
        "    \n",
        "    assert(W1.shape == (n_h, n_x))\n",
        "    assert(b1.shape == (n_h, 1))\n",
        "    assert(W2.shape == (n_y, n_h))\n",
        "    assert(b2.shape == (n_y, 1))\n",
        "    \n",
        "    parameters = {\"W1\": W1,\n",
        "                  \"b1\": b1,\n",
        "                  \"W2\": W2,\n",
        "                  \"b2\": b2}\n",
        "    \n",
        "    return parameters"
      ],
      "execution_count": 0,
      "outputs": []
    },
    {
      "cell_type": "code",
      "metadata": {
        "id": "gT_V9vnKSrK1",
        "colab_type": "code",
        "outputId": "a7b9bd99-74d8-4189-e4e7-9f6b885f315d",
        "colab": {
          "base_uri": "https://localhost:8080/",
          "height": 128
        }
      },
      "source": [
        "parameters = initialize_parameters(3,2,1)\n",
        "print(\"W1 = \" + str(parameters[\"W1\"]))\n",
        "print(\"b1 = \" + str(parameters[\"b1\"]))\n",
        "print(\"W2 = \" + str(parameters[\"W2\"]))\n",
        "print(\"b2 = \" + str(parameters[\"b2\"]))"
      ],
      "execution_count": 0,
      "outputs": [
        {
          "output_type": "stream",
          "text": [
            "W1 = [[6.95036675e-02 1.20054082e-01 1.90624696e-05]\n",
            " [5.03887621e-02 2.44593151e-02 1.53897658e-02]]\n",
            "b1 = [[0.09313011]\n",
            " [0.17278036]]\n",
            "W2 = [[0.19838374 0.26940837]]\n",
            "b2 = [[0.41919451]]\n"
          ],
          "name": "stdout"
        }
      ]
    },
    {
      "cell_type": "markdown",
      "metadata": {
        "id": "08MMH8vwSrK9",
        "colab_type": "text"
      },
      "source": [
        "**Expected output**:\n",
        "       \n",
        "<table style=\"width:80%\">\n",
        "  <tr>\n",
        "    <td> **W1** </td>\n",
        "    <td> [[ 0.01624345 -0.00611756 -0.00528172]\n",
        " [-0.01072969  0.00865408 -0.02301539]] </td> \n",
        "  </tr>\n",
        "\n",
        "  <tr>\n",
        "    <td> **b1**</td>\n",
        "    <td>[[ 0.]\n",
        " [ 0.]]</td> \n",
        "  </tr>\n",
        "  \n",
        "  <tr>\n",
        "    <td>**W2**</td>\n",
        "    <td> [[ 0.01744812 -0.00761207]]</td>\n",
        "  </tr>\n",
        "  \n",
        "  <tr>\n",
        "    <td> **b2** </td>\n",
        "    <td> [[ 0.]] </td> \n",
        "  </tr>\n",
        "  \n",
        "</table>"
      ]
    },
    {
      "cell_type": "markdown",
      "metadata": {
        "id": "orCBqzsVSrLB",
        "colab_type": "text"
      },
      "source": [
        "## 3. Forward Propagation"
      ]
    },
    {
      "cell_type": "markdown",
      "metadata": {
        "id": "OULg-_k_SrLD",
        "colab_type": "text"
      },
      "source": [
        "Now that you have initialized your parameters, you will do the forward propagation module. You will start by implementing some basic functions that you will use later when implementing the model. You will complete three functions in this order:\n",
        "\n",
        "- LINEAR\n",
        "- LINEAR -> ACTIVATION where ACTIVATION will be either ReLU or Sigmoid.\n",
        "\n",
        "The linear module computes the following equation:\n",
        "`\n",
        "$$Z = WA+b\\tag{4}$$\n",
        "\n",
        "### 3.1 Exercise: Build the linear part of forward propagation."
      ]
    },
    {
      "cell_type": "code",
      "metadata": {
        "id": "MU2cG0sSSrLE",
        "colab_type": "code",
        "colab": {}
      },
      "source": [
        "def linear_forward(A, W, b):\n",
        "    \"\"\"\n",
        "    Implement the linear part of a layer's forward propagation.\n",
        "\n",
        "    Arguments:\n",
        "    A -- activations from previous layer (or input data): (size of previous layer, number of examples)\n",
        "    W -- weights matrix: numpy array of shape (size of current layer, size of previous layer)\n",
        "    b -- bias vector, numpy array of shape (size of the current layer, 1)\n",
        "\n",
        "    Returns:\n",
        "    Z -- the input of the activation function, also called pre-activation parameter \n",
        "    cache -- a python dictionary containing \"A\", \"W\" and \"b\" ; stored for computing the backward pass efficiently\n",
        "    \"\"\"\n",
        "    \n",
        "    ### START CODE HERE ### (≈ 1 line of code)\n",
        "    # print(W.shape)\n",
        "    # print(A.shape)\n",
        "    Z = np.matmul(W,A) + b\n",
        "    ### END CODE HERE ###\n",
        "    \n",
        "    assert(Z.shape == (W.shape[0], A.shape[1]))\n",
        "    cache = (A, W, b)\n",
        "    return Z, cache"
      ],
      "execution_count": 0,
      "outputs": []
    },
    {
      "cell_type": "code",
      "metadata": {
        "id": "YHJsyCvUSrLK",
        "colab_type": "code",
        "outputId": "f19ff7e2-1532-46ba-86d8-0a794084f43a",
        "colab": {
          "base_uri": "https://localhost:8080/",
          "height": 35
        }
      },
      "source": [
        "np.random.seed(1)\n",
        "\n",
        "A = np.random.randn(3,2)\n",
        "W = np.random.randn(1,3)\n",
        "b = np.random.randn(1,1)\n",
        "\n",
        "Z, linear_cache = linear_forward(A, W, b)\n",
        "print(\"Z = \" + str(Z))"
      ],
      "execution_count": 0,
      "outputs": [
        {
          "output_type": "stream",
          "text": [
            "Z = [[ 3.26295337 -1.23429987]]\n"
          ],
          "name": "stdout"
        }
      ]
    },
    {
      "cell_type": "markdown",
      "metadata": {
        "id": "HpkemOiwSrLR",
        "colab_type": "text"
      },
      "source": [
        "**Expected output**:\n",
        "\n",
        "<table style=\"width:35%\">\n",
        "  \n",
        "  <tr>\n",
        "    <td> **Z** </td>\n",
        "    <td> [[ 3.26295337 -1.23429987]] </td> \n",
        "  </tr>\n",
        "  \n",
        "</table>"
      ]
    },
    {
      "cell_type": "markdown",
      "metadata": {
        "id": "L6Lp0JYjSrLT",
        "colab_type": "text"
      },
      "source": [
        "### 3.2 - Linear-Activation Forward\n",
        "\n",
        "In this notebook, you will use two activation functions:\n",
        "\n",
        "- **Sigmoid**: $\\sigma(Z) = \\sigma(W A + b) = \\frac{1}{ 1 + e^{-(W A + b)}}$. Write the code for the `sigmoid` function. This function returns **two** items: the activation value \"`a`\" and a \"`cache`\" that contains \"`Z`\" (it's what we will feed in to the corresponding backward function). To use it you could just call: \n",
        "``` python\n",
        "A, activation_cache = sigmoid(Z)\n",
        "```\n",
        "\n",
        "- **ReLU**: The mathematical formula for ReLu is $A = RELU(Z) = max(0, Z)$. Write the code for the  `relu` function. This function returns **two** items: the activation value \"`A`\" and a \"`cache`\" that contains \"`Z`\" (it's what we will feed in to the corresponding backward function). To use it you could just call:\n",
        "``` python\n",
        "A, activation_cache = relu(Z)\n",
        "\n",
        "**Exercise**: \n",
        "- Implement the activation functions\n",
        "- Build the linear activation part of forward propagation. Mathematical relation is: $A = g(Z) = g(WA_{prev} +b)$"
      ]
    },
    {
      "cell_type": "code",
      "metadata": {
        "id": "7Lv-oYxASrLU",
        "colab_type": "code",
        "colab": {}
      },
      "source": [
        "def sigmoid(Z):\n",
        "    \"\"\"\n",
        "    Implements the sigmoid activation in numpy\n",
        "    \n",
        "    Arguments:\n",
        "    Z -- numpy array of any shape\n",
        "    \n",
        "    Returns:\n",
        "    A -- output of sigmoid(z), same shape as Z\n",
        "    cache -- returns Z, useful during backpropagation\n",
        "    \"\"\"\n",
        "    ### START CODE HERE ### (≈ 2 line of code)\n",
        "    A = 1/(1 + np.exp(-Z))\n",
        "    cache = Z\n",
        "    ### END CODE HERE ###\n",
        "    \n",
        "    return A, cache\n",
        "\n",
        "def relu(Z):\n",
        "    \"\"\"\n",
        "    Implement the RELU function.\n",
        "\n",
        "    Arguments:\n",
        "    Z -- Output of the linear layer, of any shape\n",
        "\n",
        "    Returns:\n",
        "    A -- Post-activation parameter, of the same shape as Z\n",
        "    cache --  returns Z, useful during backpropagation\n",
        "    \"\"\"\n",
        "    \n",
        "    ### START CODE HERE ### (≈ 2 line of code)\n",
        "    A = np.maximum(Z, np.zeros(Z.shape))\n",
        "    cache = Z\n",
        "    ### END CODE HERE ###\n",
        "    \n",
        "    assert(A.shape == Z.shape) \n",
        "    return A, cache"
      ],
      "execution_count": 0,
      "outputs": []
    },
    {
      "cell_type": "code",
      "metadata": {
        "id": "187jmNcUSrLZ",
        "colab_type": "code",
        "colab": {}
      },
      "source": [
        "def linear_activation_forward(A_prev, W, b, activation):\n",
        "    \"\"\"\n",
        "    Implement the forward propagation for the LINEAR->ACTIVATION layer\n",
        "\n",
        "    Arguments:\n",
        "    A_prev -- activations from previous layer (or input data): (size of previous layer, number of examples)\n",
        "    W -- weights matrix: numpy array of shape (size of current layer, size of previous layer)\n",
        "    b -- bias vector, numpy array of shape (size of the current layer, 1)\n",
        "    activation -- the activation to be used in this layer, stored as a text string: \"sigmoid\" or \"relu\"\n",
        "\n",
        "    Returns:\n",
        "    A -- the output of the activation function, also called the post-activation value \n",
        "    cache -- a python dictionary containing \"linear_cache\" and \"activation_cache\";\n",
        "             stored for computing the backward pass efficiently\n",
        "    \"\"\"\n",
        "    \n",
        "    if activation == \"sigmoid\":\n",
        "        # Inputs: \"A_prev, W, b\". Outputs: \"A, activation_cache\".\n",
        "        ### START CODE HERE ### (≈ 2 lines of code)\n",
        "        Z, linear_cache = linear_forward(A_prev, W, b)\n",
        "        A, activation_cache = sigmoid(Z)        \n",
        "        ### END CODE HERE ###\n",
        "    \n",
        "    elif activation == \"relu\":\n",
        "        # Inputs: \"A_prev, W, b\". Outputs: \"A, activation_cache\".\n",
        "        ### START CODE HERE ### (≈ 2 lines of code)\n",
        "        Z, linear_cache = linear_forward(A_prev, W, b)\n",
        "        A, activation_cache = relu(Z)        \n",
        "        ### END CODE HERE ###\n",
        "    \n",
        "    assert (A.shape == (W.shape[0], A_prev.shape[1]))\n",
        "    cache = (linear_cache, activation_cache)\n",
        "\n",
        "    return A, cache"
      ],
      "execution_count": 0,
      "outputs": []
    },
    {
      "cell_type": "code",
      "metadata": {
        "id": "HdpJN8HXSrLf",
        "colab_type": "code",
        "outputId": "8baef193-0284-4114-9c75-a243264795bf",
        "colab": {
          "base_uri": "https://localhost:8080/",
          "height": 54
        }
      },
      "source": [
        "np.random.seed(2)\n",
        "A_prev = np.random.randn(3,2)\n",
        "W = np.random.randn(1,3)\n",
        "b = np.random.randn(1,1)\n",
        "\n",
        "A, linear_activation_cache = linear_activation_forward(A_prev, W, b, activation = \"sigmoid\")\n",
        "print(\"With sigmoid: A = \" + str(A))\n",
        "\n",
        "A, linear_activation_cache = linear_activation_forward(A_prev, W, b, activation = \"relu\")\n",
        "print(\"With ReLU: A = \" + str(A))"
      ],
      "execution_count": 0,
      "outputs": [
        {
          "output_type": "stream",
          "text": [
            "With sigmoid: A = [[0.96890023 0.11013289]]\n",
            "With ReLU: A = [[3.43896131 0.        ]]\n"
          ],
          "name": "stdout"
        }
      ]
    },
    {
      "cell_type": "markdown",
      "metadata": {
        "id": "G285l0w0SrLl",
        "colab_type": "text"
      },
      "source": [
        "**Expected output**:\n",
        "       \n",
        "<table style=\"width:35%\">\n",
        "  <tr>\n",
        "    <td> **With sigmoid: A ** </td>\n",
        "    <td > [[ 0.96890023  0.11013289]]</td> \n",
        "  </tr>\n",
        "  <tr>\n",
        "    <td> **With ReLU: A ** </td>\n",
        "    <td > [[ 3.43896131  0.        ]]</td> \n",
        "  </tr>\n",
        "</table>\n"
      ]
    },
    {
      "cell_type": "markdown",
      "metadata": {
        "id": "YXz_0S8tSrLn",
        "colab_type": "text"
      },
      "source": [
        "## 4 - Loss function\n",
        "\n",
        "Now you will implement forward and backward propagation. You need to compute the loss, because you want to check if your model is actually learning.\n",
        "\n",
        "**Exercise**: Compute the cross-entropy loss $J$, using the following formula: $$-\\frac{1}{m} \\sum\\limits_{i = 1}^{m} (y^{(i)}\\log\\left(a^{ (i)}\\right) + (1-y^{(i)})\\log\\left(1- a^{(i)}\\right)) \\tag{7}$$"
      ]
    },
    {
      "cell_type": "code",
      "metadata": {
        "id": "DJTAz-aYSrLp",
        "colab_type": "code",
        "colab": {}
      },
      "source": [
        "# GRADED FUNCTION: compute_loss\n",
        "\n",
        "def compute_loss(A, Y):\n",
        "    \"\"\"\n",
        "    Implement the loss function defined by equation (7).\n",
        "\n",
        "    Arguments:\n",
        "    A -- probability vector corresponding to your label predictions, shape (1, number of examples)\n",
        "    Y -- true \"label\" vector (for example: containing 0 if non-cat, 1 if cat), shape (1, number of examples)\n",
        "\n",
        "    Returns:\n",
        "    loss -- cross-entropy loss\n",
        "    \"\"\"\n",
        "    \n",
        "    m = Y.shape[1]\n",
        "\n",
        "    # Compute loss from aL and y.\n",
        "    ### START CODE HERE ### (≈ 1 lines of code)\n",
        "    loss = -np.sum(Y*np.log(A) + (1 - Y)*np.log(1-A))/(m)\n",
        "    ### END CODE HERE ###\n",
        "    \n",
        "    loss = np.squeeze(loss)      # To make sure your loss's shape is what we expect (e.g. this turns [[17]] into 17).\n",
        "    assert(loss.shape == ())\n",
        "    \n",
        "    return loss"
      ],
      "execution_count": 0,
      "outputs": []
    },
    {
      "cell_type": "code",
      "metadata": {
        "id": "tGzTpK4tSrLt",
        "colab_type": "code",
        "outputId": "6b337d06-74c8-442c-cb06-89141aaf21c9",
        "colab": {
          "base_uri": "https://localhost:8080/",
          "height": 35
        }
      },
      "source": [
        "Y = np.asarray([[1, 1, 1]])\n",
        "A = np.array([[.8,.9,0.4]])\n",
        "\n",
        "print(\"loss = \" + str(compute_loss(A, Y)))"
      ],
      "execution_count": 0,
      "outputs": [
        {
          "output_type": "stream",
          "text": [
            "loss = 0.414931599615397\n"
          ],
          "name": "stdout"
        }
      ]
    },
    {
      "cell_type": "markdown",
      "metadata": {
        "id": "4vgY0abkSrL4",
        "colab_type": "text"
      },
      "source": [
        "**Expected Output**:\n",
        "\n",
        "<table>\n",
        "    <tr>\n",
        "    <td>**loss** </td>\n",
        "    <td> 0.41493159961539694</td> \n",
        "    </tr>\n",
        "</table>"
      ]
    },
    {
      "cell_type": "markdown",
      "metadata": {
        "id": "8A1kYwhySrL6",
        "colab_type": "text"
      },
      "source": [
        "## 5 - Backward propagation module\n",
        "\n",
        "Just like with forward propagation, you will implement helper functions for backpropagation. Remember that back propagation is used to calculate the gradient of the loss function with respect to the parameters. \n",
        "\n",
        "Now, similar to forward propagation, you are going to build the backward propagation in two steps:\n",
        "- LINEAR backward\n",
        "- LINEAR -> ACTIVATION backward where ACTIVATION computes the derivative of either the ReLU or sigmoid activation\n",
        "\n",
        "### 5.1 - Linear backward"
      ]
    },
    {
      "cell_type": "code",
      "metadata": {
        "id": "rxey2ZTfSrL7",
        "colab_type": "code",
        "colab": {}
      },
      "source": [
        "# GRADED FUNCTION: linear_backward\n",
        "\n",
        "def linear_backward(dZ, cache):\n",
        "    \"\"\"\n",
        "    Implement the linear portion of backward propagation for a single layer (layer l)\n",
        "\n",
        "    Arguments:\n",
        "    dZ -- Gradient of the loss with respect to the linear output (of current layer l)\n",
        "    cache -- tuple of values (A_prev, W, b) coming from the forward propagation in the current layer\n",
        "\n",
        "    Returns:\n",
        "    dA_prev -- Gradient of the loss with respect to the activation (of the previous layer l-1), same shape as A_prev\n",
        "    dW -- Gradient of the loss with respect to W (current layer l), same shape as W\n",
        "    db -- Gradient of the loss with respect to b (current layer l), same shape as b\n",
        "    \"\"\"\n",
        "    A_prev, W, b = cache\n",
        "    m = A_prev.shape[1]\n",
        "\n",
        "    ### START CODE HERE ### (≈ 3 lines of code)\n",
        "    dA_prev = np.matmul(W.T,dZ)\n",
        "    dW = np.matmul(dZ, A_prev.T)\n",
        "    db = np.zeros(b.shape)\n",
        "    \n",
        "    db = np.array([np.sum(dZ, axis = 1)]).T\n",
        "    # print(db.shape)\n",
        "    ### END CODE HERE ###\n",
        "    # print(dA_prev.shape)\n",
        "    # print(A_prev.shape)    \n",
        "    assert (dA_prev.shape == A_prev.shape)\n",
        "    assert (dW.shape == W.shape)\n",
        "    assert (db.shape == b.shape)\n",
        "    \n",
        "    return dA_prev, dW, db"
      ],
      "execution_count": 0,
      "outputs": []
    },
    {
      "cell_type": "code",
      "metadata": {
        "id": "-XrkzakKSrMA",
        "colab_type": "code",
        "outputId": "86262d16-3598-45f7-d9e9-eacfdfa71e23",
        "colab": {
          "base_uri": "https://localhost:8080/",
          "height": 109
        }
      },
      "source": [
        "np.random.seed(1)\n",
        "dZ = np.random.randn(1,2)\n",
        "A = np.random.randn(3,2)\n",
        "W = np.random.randn(1,3)\n",
        "b = np.random.randn(1,1)\n",
        "linear_cache = (A, W, b)\n",
        "\n",
        "dA_prev, dW, db = linear_backward(dZ, linear_cache)\n",
        "print (\"dA_prev = \"+ str(dA_prev))\n",
        "print (\"dW = \" + str(dW))\n",
        "print (\"db = \" + str(db))"
      ],
      "execution_count": 0,
      "outputs": [
        {
          "output_type": "stream",
          "text": [
            "dA_prev = [[ 0.51822968 -0.19517421]\n",
            " [-0.40506361  0.15255393]\n",
            " [ 2.37496825 -0.89445391]]\n",
            "dW = [[-0.2015379   2.81370193  3.2998501 ]]\n",
            "db = [[1.01258895]]\n"
          ],
          "name": "stdout"
        }
      ]
    },
    {
      "cell_type": "markdown",
      "metadata": {
        "id": "qlp9O1PSSrME",
        "colab_type": "text"
      },
      "source": [
        "**Expected Output**: \n",
        "\n",
        "<table style=\"width:90%\">\n",
        "  <tr>\n",
        "    <td> **dA_prev** </td>\n",
        "    <td > [[ 0.51822968 -0.19517421]\n",
        " [-0.40506361  0.15255393]\n",
        " [ 2.37496825 -0.89445391]] </td> \n",
        "  </tr> \n",
        "    <tr>\n",
        "        <td> **dW** </td>\n",
        "        <td > [[-0.2015379   2.81370193  3.2998501 ]] </td> \n",
        "    </tr> \n",
        "    <tr>\n",
        "        <td> **db** </td>\n",
        "        <td> [[1.01258895]] </td> \n",
        "    </tr>     \n",
        "</table>"
      ]
    },
    {
      "cell_type": "markdown",
      "metadata": {
        "id": "tpsBWbHhSrMF",
        "colab_type": "text"
      },
      "source": [
        "### 5.2 - Linear Activation backward\n",
        "\n",
        "Next, you will create a function that merges the two helper functions: **`linear_backward`** and the backward step for the activation **`linear_activation_backward`**. \n",
        "\n",
        "Before implementing `linear_activation_backward`, you need to implement two backward functions for each activations:\n",
        "- **`sigmoid_backward`**: Implements the backward propagation for SIGMOID unit. You can call it as follows:\n",
        "\n",
        "```python\n",
        "dZ = sigmoid_backward(dA, activation_cache)\n",
        "```\n",
        "\n",
        "- **`relu_backward`**: Implements the backward propagation for RELU unit. You can call it as follows:\n",
        "\n",
        "```python\n",
        "dZ = relu_backward(dA, activation_cache)\n",
        "```\n",
        "\n",
        "If $g(.)$ is the activation function, \n",
        "`sigmoid_backward` and `relu_backward` compute $$dZ^{[l]} = dA^{[l]} * g'(Z^{[l]}) \\tag{11}$$.  \n",
        "\n",
        "**Exercise**: \n",
        "- Implement the backward functions for the relu and sigmoid activation layer.\n",
        "- Implement the backpropagation for the *LINEAR->ACTIVATION* layer."
      ]
    },
    {
      "cell_type": "code",
      "metadata": {
        "id": "vg-C82tKSrMH",
        "colab_type": "code",
        "colab": {}
      },
      "source": [
        "def relu_backward(dA, cache):\n",
        "    \"\"\"\n",
        "    Implement the backward propagation for a single RELU unit.\n",
        "\n",
        "    Arguments:\n",
        "    dA -- post-activation gradient, of any shape\n",
        "    cache -- 'Z' where we store for computing backward propagation efficiently\n",
        "\n",
        "    Returns:\n",
        "    dZ -- Gradient of the loss with respect to Z\n",
        "    \"\"\"\n",
        "    \n",
        "    Z = cache\n",
        "    dZ = np.array(dA, copy=True) # just converting dz to a correct object.\n",
        "    \n",
        "    ### START CODE HERE ### (≈ 1 line of code)\n",
        "    # print(Z)\n",
        "    Z = np.sign(Z)\n",
        "    # print(Z)\n",
        "    # print(dA)\n",
        "    # print(np.where(Z >0, Z, 0))\n",
        "    dZ = np.multiply(dA,np.where(Z >=0, Z, 0))\n",
        "    # print(dZ)\n",
        "    ### END CODE HERE ###\n",
        "    \n",
        "    assert (dZ.shape == Z.shape)\n",
        "    \n",
        "    return dZ\n",
        "\n",
        "def sigmoid_backward(dA, cache):\n",
        "    \"\"\"\n",
        "    Implement the backward propagation for a single SIGMOID unit.\n",
        "\n",
        "    Arguments:\n",
        "    dA -- post-activation gradient, of any shape\n",
        "    cache -- 'Z' where we store for computing backward propagation efficiently\n",
        "\n",
        "    Returns:\n",
        "    dZ -- Gradient of the loss with respect to Z\n",
        "    \"\"\"\n",
        "    \n",
        "    Z = cache\n",
        "    \n",
        "    ### START CODE HERE ### (≈ 2 line of code)\n",
        "    dZ = np.multiply(np.exp(-Z)/(1+np.exp(-Z))**2,dA)\n",
        "    # print(dA.shape)\n",
        "    \n",
        "    ### END CODE HERE ###\n",
        "    \n",
        "    assert (dZ.shape == Z.shape)\n",
        "    \n",
        "    return dZ\n"
      ],
      "execution_count": 0,
      "outputs": []
    },
    {
      "cell_type": "code",
      "metadata": {
        "id": "M5gsNie5SrMK",
        "colab_type": "code",
        "colab": {}
      },
      "source": [
        "# GRADED FUNCTION: linear_activation_backward\n",
        "\n",
        "def linear_activation_backward(dA, cache, activation):\n",
        "    \"\"\"\n",
        "    Implement the backward propagation for the LINEAR->ACTIVATION layer.\n",
        "    \n",
        "    Arguments:\n",
        "    dA -- post-activation gradient for current layer l \n",
        "    cache -- tuple of values (linear_cache, activation_cache) we store for computing backward propagation efficiently\n",
        "    activation -- the activation to be used in this layer, stored as a text string: \"sigmoid\" or \"relu\"\n",
        "    \n",
        "    Returns:\n",
        "    dA_prev -- Gradient of the loss with respect to the activation (of the previous layer l-1), same shape as A_prev\n",
        "    dW -- Gradient of the loss with respect to W (current layer l), same shape as W\n",
        "    db -- Gradient of the loss with respect to b (current layer l), same shape as b\n",
        "    \"\"\"\n",
        "    linear_cache, activation_cache = cache\n",
        "    \n",
        "    if activation == \"relu\":\n",
        "        ### START CODE HERE ### (≈ 2 lines of code)\n",
        "        dZ = relu_backward(dA, activation_cache)\n",
        "        dA_prev, dW, db = linear_backward(dZ, linear_cache)\n",
        "        ### END CODE HERE ###\n",
        "        \n",
        "    elif activation == \"sigmoid\":\n",
        "        ### START CODE HERE ### (≈ 2 lines of code)\n",
        "        dZ = sigmoid_backward(dA, activation_cache)\n",
        "        dA_prev, dW, db = linear_backward(dZ, linear_cache)\n",
        "        ### END CODE HERE ###\n",
        "    \n",
        "    return dA_prev, dW, db"
      ],
      "execution_count": 0,
      "outputs": []
    },
    {
      "cell_type": "code",
      "metadata": {
        "id": "Hr6ot7yTSrMO",
        "colab_type": "code",
        "outputId": "8d001689-51e5-480e-d2b8-92d14aea7e6c",
        "colab": {
          "base_uri": "https://localhost:8080/",
          "height": 257
        }
      },
      "source": [
        "np.random.seed(2)\n",
        "dA = np.random.randn(1,2)\n",
        "A = np.random.randn(3,2)\n",
        "W = np.random.randn(1,3)\n",
        "b = np.random.randn(1,1)\n",
        "Z = np.random.randn(1,2)\n",
        "linear_cache = (A, W, b)\n",
        "activation_cache = Z\n",
        "linear_activation_cache = (linear_cache, activation_cache)\n",
        "\n",
        "dA_prev, dW, db = linear_activation_backward(dA, linear_activation_cache, activation = \"sigmoid\")\n",
        "print (\"sigmoid:\")\n",
        "print (\"dA_prev = \"+ str(dA_prev))\n",
        "print (\"dW = \" + str(dW))\n",
        "print (\"db = \" + str(db) + \"\\n\")\n",
        "\n",
        "dA_prev, dW, db = linear_activation_backward(dA, linear_activation_cache, activation = \"relu\")\n",
        "print (\"relu:\")\n",
        "print (\"dA_prev = \"+ str(dA_prev))\n",
        "print (\"dW = \" + str(dW))\n",
        "print (\"db = \" + str(db))"
      ],
      "execution_count": 0,
      "outputs": [
        {
          "output_type": "stream",
          "text": [
            "sigmoid:\n",
            "dA_prev = [[ 0.11017994  0.01105339]\n",
            " [ 0.09466817  0.00949723]\n",
            " [-0.05743092 -0.00576154]]\n",
            "dW = [[ 0.20533573  0.19557101 -0.03936168]]\n",
            "db = [[-0.11459244]]\n",
            "\n",
            "relu:\n",
            "dA_prev = [[ 0.44090989  0.        ]\n",
            " [ 0.37883606  0.        ]\n",
            " [-0.2298228   0.        ]]\n",
            "dW = [[ 0.89027649  0.74742835 -0.20957978]]\n",
            "db = [[-0.41675785]]\n"
          ],
          "name": "stdout"
        }
      ]
    },
    {
      "cell_type": "markdown",
      "metadata": {
        "id": "A0qNt9WFSrMS",
        "colab_type": "text"
      },
      "source": [
        "**Expected output with sigmoid:**\n",
        "\n",
        "<table style=\"width:100%\">\n",
        "  <tr>\n",
        "    <td > dA_prev </td> \n",
        "           <td >[[ 0.11017994  0.01105339]\n",
        " [ 0.09466817  0.00949723]\n",
        " [-0.05743092 -0.00576154]] </td> \n",
        "  </tr> \n",
        "    <tr>\n",
        "    <td > dW </td> \n",
        "           <td > [[ 0.20533573  0.19557101 -0.03936168]] </td> \n",
        "  </tr> \n",
        "    <tr>\n",
        "    <td > db </td> \n",
        "           <td > [[-0.11459244]] </td> \n",
        "  </tr> \n",
        "</table>"
      ]
    },
    {
      "cell_type": "markdown",
      "metadata": {
        "id": "bdYTHgU6SrMU",
        "colab_type": "text"
      },
      "source": [
        "**Expected output with relu:**\n",
        "\n",
        "<table style=\"width:100%\">\n",
        "  <tr>\n",
        "    <td > dA_prev </td> \n",
        "           <td > [[ 0.44090989  0.        ]\n",
        " [ 0.37883606  0.        ]\n",
        " [-0.2298228   0.        ]] </td> \n",
        "  </tr> \n",
        "    <tr>\n",
        "    <td > dW </td> \n",
        "           <td > [[ 0.89027649  0.74742835 -0.20957978]] </td> \n",
        "  </tr> \n",
        "    <tr>\n",
        "    <td > db </td> \n",
        "           <td > [[-0.41675785]] </td> \n",
        "  </tr> \n",
        "</table>"
      ]
    },
    {
      "cell_type": "markdown",
      "metadata": {
        "id": "fIo-7P1ASrMV",
        "colab_type": "text"
      },
      "source": [
        "### 6 - Update Parameters\n",
        "\n",
        "In this section you will update the parameters of the model, using gradient descent: \n",
        "\n",
        "$$ W^{[1]} = W^{[1]} - \\alpha \\text{ } dW^{[1]} \\tag{16}$$\n",
        "$$ b^{[1]} = b^{[1]} - \\alpha \\text{ } db^{[1]} \\tag{17}$$\n",
        "$$ W^{[2]} = W^{[2]} - \\alpha \\text{ } dW^{[2} \\tag{16}$$\n",
        "$$ b^{[2]} = b^{[2]} - \\alpha \\text{ } db^{[2]} \\tag{17}$$\n",
        "\n",
        "where $\\alpha$ is the learning rate. After computing the updated parameters, store them in the parameters dictionary. \n",
        "\n",
        "**Exercise**: Implement `update_parameters()` to update your parameters using gradient descent.\n",
        "\n",
        "**Instructions**:\n",
        "Update parameters using gradient descent.\n"
      ]
    },
    {
      "cell_type": "code",
      "metadata": {
        "id": "nk_UN_PySrMW",
        "colab_type": "code",
        "colab": {}
      },
      "source": [
        "# GRADED FUNCTION: update_parameters\n",
        "\n",
        "def update_parameters(parameters, grads, learning_rate):\n",
        "    \"\"\"\n",
        "    Update parameters using gradient descent\n",
        "    \n",
        "    Arguments:\n",
        "    parameters -- python dictionary containing your parameters \n",
        "    grads -- python dictionary containing your gradients, output of L_model_backward\n",
        "    \n",
        "    Returns:\n",
        "    parameters -- python dictionary containing your updated parameters \n",
        "                  parameters[\"W\" + str(l)] = ... \n",
        "                  parameters[\"b\" + str(l)] = ...\n",
        "    \"\"\"\n",
        "    # Update rule for each parameter. Use a for loop.\n",
        "    ### START CODE HERE ### (≈ 4 lines of code)\n",
        "    for l in range(1, int(len(parameters)/2 + 1)):\n",
        "      parameters[\"W\" + str(l)] += - learning_rate*grads[\"dW\" + str(l)]\n",
        "      parameters[\"b\" + str(l)] += - learning_rate*grads[\"db\" + str(l)]\n",
        "\n",
        "    \n",
        "    ### END CODE HERE ###\n",
        "    return parameters"
      ],
      "execution_count": 0,
      "outputs": []
    },
    {
      "cell_type": "code",
      "metadata": {
        "id": "sco5aA_7SrMa",
        "colab_type": "code",
        "outputId": "9bd3a3cf-7b60-4542-ae23-8ac2cdf2ba71",
        "colab": {
          "base_uri": "https://localhost:8080/",
          "height": 165
        }
      },
      "source": [
        "np.random.seed(2)\n",
        "W1 = np.random.randn(3,4)\n",
        "b1 = np.random.randn(3,1)\n",
        "W2 = np.random.randn(1,3)\n",
        "b2 = np.random.randn(1,1)\n",
        "parameters = {\"W1\": W1,\n",
        "              \"b1\": b1,\n",
        "              \"W2\": W2,\n",
        "              \"b2\": b2}\n",
        "np.random.seed(3)\n",
        "dW1 = np.random.randn(3,4)\n",
        "db1 = np.random.randn(3,1)\n",
        "dW2 = np.random.randn(1,3)\n",
        "db2 = np.random.randn(1,1)\n",
        "grads = {\"dW1\": dW1,\n",
        "         \"db1\": db1,\n",
        "         \"dW2\": dW2,\n",
        "         \"db2\": db2}\n",
        "parameters = update_parameters(parameters, grads, 0.1)\n",
        "\n",
        "print (\"W1 = \"+ str(parameters[\"W1\"]))\n",
        "print (\"b1 = \"+ str(parameters[\"b1\"]))\n",
        "print (\"W2 = \"+ str(parameters[\"W2\"]))\n",
        "print (\"b2 = \"+ str(parameters[\"b2\"]))"
      ],
      "execution_count": 0,
      "outputs": [
        {
          "output_type": "stream",
          "text": [
            "W1 = [[-0.59562069 -0.09991781 -2.14584584  1.82662008]\n",
            " [-1.76569676 -0.80627147  0.51115557 -1.18258802]\n",
            " [-1.0535704  -0.86128581  0.68284052  2.20374577]]\n",
            "b1 = [[-0.04659241]\n",
            " [-1.28888275]\n",
            " [ 0.53405496]]\n",
            "W2 = [[-0.55569196  0.0354055   1.32964895]]\n",
            "b2 = [[-0.84610769]]\n"
          ],
          "name": "stdout"
        }
      ]
    },
    {
      "cell_type": "markdown",
      "metadata": {
        "id": "mVqDuyrWSrMf",
        "colab_type": "text"
      },
      "source": [
        "**Expected Output**:\n",
        "\n",
        "<table style=\"width:100%\"> \n",
        "    <tr>\n",
        "    <td > W1 </td> \n",
        "           <td > [[-0.59562069 -0.09991781 -2.14584584  1.82662008]\n",
        " [-1.76569676 -0.80627147  0.51115557 -1.18258802]\n",
        " [-1.0535704  -0.86128581  0.68284052  2.20374577]] </td> \n",
        "  </tr> \n",
        "    <tr>\n",
        "    <td > b1 </td> \n",
        "           <td > [[-0.04659241]\n",
        " [-1.28888275]\n",
        " [ 0.53405496]] </td> \n",
        "  </tr> \n",
        "  <tr>\n",
        "    <td > W2 </td> \n",
        "           <td > [[-0.55569196  0.0354055   1.32964895]]</td> \n",
        "  </tr> \n",
        "    <tr>\n",
        "    <td > b2 </td> \n",
        "           <td > [[-0.84610769]] </td> \n",
        "  </tr> \n",
        "</table>\n"
      ]
    },
    {
      "cell_type": "markdown",
      "metadata": {
        "id": "tS6mW2khSrMg",
        "colab_type": "text"
      },
      "source": [
        "\n",
        "## 7 - Conclusion\n",
        "\n",
        "Congrats on implementing all the functions required for building a deep neural network! \n",
        "\n",
        "We know it was a long assignment but going forward it will only get better. The next part of the assignment is easier. \n",
        "\n"
      ]
    },
    {
      "cell_type": "markdown",
      "metadata": {
        "id": "HD-hujSCSrMh",
        "colab_type": "text"
      },
      "source": [
        "# Part 2:\n",
        "\n",
        "In the next part you will put all these together to build a two-layer neural networks for image classification."
      ]
    },
    {
      "cell_type": "code",
      "metadata": {
        "id": "vrTuIFqdSrMj",
        "colab_type": "code",
        "outputId": "7bfe2c3f-093e-4594-ecb4-f2230471957c",
        "colab": {
          "base_uri": "https://localhost:8080/",
          "height": 295
        }
      },
      "source": [
        "from google.colab import drive\n",
        "drive.mount('/content/drive')\n",
        "!pwd\n",
        "%cd drive/My\\ Drive\n",
        "\n",
        "import os\n",
        "%matplotlib inline\n",
        "plt.rcParams['figure.figsize'] = (5.0, 4.0) # set default size of plots\n",
        "plt.rcParams['image.interpolation'] = 'nearest'\n",
        "plt.rcParams['image.cmap'] = 'gray'\n",
        "\n",
        "%load_ext autoreload\n",
        "%autoreload 2\n",
        "\n",
        "!cp Colab\\ Notebooks/hw2.ipynb ./\n",
        "!jupyter nbconvert --to PDF \"hw2.ipynb\"\n",
        "\n",
        "np.random.seed(1)"
      ],
      "execution_count": 223,
      "outputs": [
        {
          "output_type": "stream",
          "text": [
            "Drive already mounted at /content/drive; to attempt to forcibly remount, call drive.mount(\"/content/drive\", force_remount=True).\n",
            "/content/drive/My Drive\n",
            "[Errno 2] No such file or directory: 'drive/My Drive'\n",
            "/content/drive/My Drive\n",
            "The autoreload extension is already loaded. To reload it, use:\n",
            "  %reload_ext autoreload\n",
            "[NbConvertApp] Converting notebook hw2.ipynb to PDF\n",
            "[NbConvertApp] Support files will be in hw2_files/\n",
            "[NbConvertApp] Making directory ./hw2_files\n",
            "[NbConvertApp] Writing 130879 bytes to ./notebook.tex\n",
            "[NbConvertApp] Building PDF\n",
            "[NbConvertApp] Running xelatex 3 times: [u'xelatex', u'./notebook.tex', '-quiet']\n",
            "[NbConvertApp] Running bibtex 1 time: [u'bibtex', u'./notebook']\n",
            "[NbConvertApp] WARNING | bibtex had problems, most likely because there were no citations\n",
            "[NbConvertApp] PDF successfully created\n",
            "[NbConvertApp] Writing 144492 bytes to hw2.pdf\n"
          ],
          "name": "stdout"
        }
      ]
    },
    {
      "cell_type": "markdown",
      "metadata": {
        "id": "WL0QczPZSrMl",
        "colab_type": "text"
      },
      "source": [
        "# Dataset"
      ]
    },
    {
      "cell_type": "markdown",
      "metadata": {
        "id": "WvsRawMpSrMm",
        "colab_type": "text"
      },
      "source": [
        "**Problem Statement**: You are given a dataset (\"data/train_catvnoncat.h5\", \"data/test_catvnoncat.h5\") containing:\n",
        "    - a training set of m_train images labelled as cat (1) or non-cat (0)\n",
        "    - a test set of m_test images labelled as cat and non-cat\n",
        "    - each image is of shape (num_px, num_px, 3) where 3 is for the 3 channels (RGB).\n",
        "\n",
        "Let's get more familiar with the dataset. Load the data by completing the function and run the cell below."
      ]
    },
    {
      "cell_type": "code",
      "metadata": {
        "id": "Pg6UL9rySrMn",
        "colab_type": "code",
        "colab": {}
      },
      "source": [
        "def load_data(train_file, test_file):\n",
        "    # Load the training data\n",
        "    train_dataset = h5py.File(train_file, 'r')\n",
        "    \n",
        "    # Separate features(x) and labels(y) for training set\n",
        "    train_set_x_orig = train_dataset['train_set_x']\n",
        "    train_set_y_orig = train_dataset['train_set_y']\n",
        "\n",
        "    # Load the test data\n",
        "    test_dataset = h5py.File(test_file)\n",
        "    \n",
        "    # Separate features(x) and labels(y) for training set\n",
        "    test_set_x_orig = test_dataset['test_set_x']\n",
        "    test_set_y_orig = test_dataset['test_set_y']\n",
        "\n",
        "    classes = np.array(test_dataset[\"list_classes\"][:]) # the list of classes\n",
        "    \n",
        "    train_set_y_orig = np.array(train_set_y_orig[:])\n",
        "    train_set_y_orig = train_set_y_orig.reshape((1, train_set_y_orig.shape[0]))\n",
        "    test_set_y_orig = np.array(test_set_y_orig[:])\n",
        "    test_set_y_orig = test_set_y_orig.reshape((1, test_set_y_orig.shape[0]))\n",
        "    \n",
        "    return train_set_x_orig, train_set_y_orig, test_set_x_orig, test_set_y_orig, classes\n",
        "\n",
        "\n"
      ],
      "execution_count": 0,
      "outputs": []
    },
    {
      "cell_type": "code",
      "metadata": {
        "id": "0Xfj_FHfSrMq",
        "colab_type": "code",
        "colab": {}
      },
      "source": [
        "train_file=\"data/train_catvnoncat.h5\"\n",
        "test_file=\"data/test_catvnoncat.h5\"\n",
        "# print(os.getcwd())\n",
        "train_x_orig, train_y, test_x_orig, test_y, classes = load_data(train_file, test_file)\n",
        "print(train_x_orig)"
      ],
      "execution_count": 0,
      "outputs": []
    },
    {
      "cell_type": "markdown",
      "metadata": {
        "id": "aI_QBczWSrMu",
        "colab_type": "text"
      },
      "source": [
        "The following code will show you an image in the dataset. Feel free to change the index and re-run the cell multiple times to see other images. "
      ]
    },
    {
      "cell_type": "code",
      "metadata": {
        "id": "QpU6otQBSrMw",
        "colab_type": "code",
        "outputId": "9781e07b-805c-45bc-ab43-9435100892b9",
        "colab": {
          "base_uri": "https://localhost:8080/",
          "height": 286
        }
      },
      "source": [
        "# Example of a picture\n",
        "index = 100\n",
        "\n",
        "# print(test_x_orig.shape)\n",
        "plt.imshow(train_x_orig[index])\n",
        "print (\"y = \" + str(train_y[0,index]) + \". It's a \" + classes[train_y[0,index]].decode(\"utf-8\") +  \" picture.\")"
      ],
      "execution_count": 0,
      "outputs": [
        {
          "output_type": "stream",
          "text": [
            "y = 0. It's a non-cat picture.\n"
          ],
          "name": "stdout"
        },
        {
          "output_type": "display_data",
          "data": {
            "image/png": "[encoded data removed]",
            "text/plain": [
              "<Figure size 360x288 with 1 Axes>"
            ]
          },
          "metadata": {
            "tags": []
          }
        }
      ]
    },
    {
      "cell_type": "code",
      "metadata": {
        "id": "rALtTgX2SrMz",
        "colab_type": "code",
        "colab": {}
      },
      "source": [
        "# Explore your dataset \n",
        "m_train = train_x_orig.shape[0]\n",
        "num_px = train_x_orig.shape[1]\n",
        "m_test = test_x_orig.shape[0]\n",
        "\n",
        "print (\"Number of training examples: \" + str(m_train))\n",
        "print (\"Number of testing examples: \" + str(m_test))\n",
        "print (\"Each image is of size: (\" + str(num_px) + \", \" + str(num_px) + \", 3)\")\n",
        "print (\"train_x_orig shape: \" + str(train_x_orig.shape))\n",
        "print (\"train_y shape: \" + str(train_y.shape))\n",
        "print (\"test_x_orig shape: \" + str(test_x_orig.shape))\n",
        "print (\"test_y shape: \" + str(test_y.shape))"
      ],
      "execution_count": 0,
      "outputs": []
    },
    {
      "cell_type": "markdown",
      "metadata": {
        "id": "H8GOMiR7SrM2",
        "colab_type": "text"
      },
      "source": [
        "As usual, you reshape and standardize the images before feeding them to the network.\n",
        "\n",
        "<img src=\"imvectorkiank.png\" style=\"width:450px;height:300px;\">\n",
        "\n",
        "<caption><center> <u>Figure 1</u>: Image to vector conversion. <br> </center></caption>"
      ]
    },
    {
      "cell_type": "code",
      "metadata": {
        "id": "qArryuSrSrM4",
        "colab_type": "code",
        "colab": {}
      },
      "source": [
        "# Reshape the training and test examples \n",
        "train_x_flatten = np.array(train_x_orig).reshape(train_x_orig.shape[0], -1).T   # The \"-1\" makes reshape flatten the remaining dimensions\n",
        "test_x_flatten = np.array(test_x_orig).reshape(test_x_orig.shape[0], -1).T\n",
        "\n",
        "# Standardize data to have feature values between 0 and 1.\n",
        "train_x = train_x_flatten/255.\n",
        "test_x = test_x_flatten/255.\n",
        "\n",
        "print (\"train_x's shape: \" + str(train_x.shape))\n",
        "print (\"test_x's shape: \" + str(test_x.shape))\n"
      ],
      "execution_count": 0,
      "outputs": []
    },
    {
      "cell_type": "markdown",
      "metadata": {
        "id": "jvb4jGJWSrM7",
        "colab_type": "text"
      },
      "source": [
        "## 3 - Architecture of your model\n",
        "\n",
        "Now that you are familiar with the dataset, it is time to build a deep neural network to distinguish cat images from non-cat images.\n",
        "\n",
        "###  2-layer neural network\n",
        "\n",
        "<img src=\"2layerNN_kiank.png\" style=\"width:650px;height:400px;\">\n",
        "<caption><center> <u>Figure 2</u>: 2-layer neural network. <br> The model can be summarized as: ***INPUT -> LINEAR -> RELU -> LINEAR -> SIGMOID -> OUTPUT***. </center></caption>\n",
        "\n",
        "<u>Detailed Architecture of figure 2</u>:\n",
        "- The input is a (64,64,3) image which is flattened to a vector of size $(12288,1)$. \n",
        "- The corresponding vector: $[x_0,x_1,...,x_{12287}]^T$ is then multiplied by the weight matrix $W^{[1]}$ of size $(n^{[1]}, 12288)$.\n",
        "- You then add a bias term and take its relu to get the following vector: $[a_0^{[1]}, a_1^{[1]},..., a_{n^{[1]}-1}^{[1]}]^T$.\n",
        "- You multiply the resulting vector by $W^{[2]}$ and add your intercept (bias). \n",
        "- Finally, you take the sigmoid of the result. If it is greater than 0.5, you classify it to be a cat.\n",
        "\n",
        "\n",
        "###  General methodology\n",
        "\n",
        "As usual you will follow the Deep Learning methodology to build the model:\n",
        "    1. Initialize parameters / Define hyperparameters\n",
        "    2. Loop for num_iterations:\n",
        "        a. Forward propagation\n",
        "        b. Compute loss function\n",
        "        c. Backward propagation\n",
        "        d. Update parameters (using parameters, and grads from backprop) \n",
        "    4. Use trained parameters to predict labels\n",
        "\n",
        "Let's now implement those the model!"
      ]
    },
    {
      "cell_type": "markdown",
      "metadata": {
        "id": "i-E06qjcSrM7",
        "colab_type": "text"
      },
      "source": [
        "[link text](https://)\n",
        "**Question**:  Use the helper functions you have implemented in the previous assignment to build a 2-layer neural network with the following structure: *LINEAR -> RELU -> LINEAR -> SIGMOID*. The functions you may need and their inputs are:\n",
        "```python\n",
        "def initialize_parameters(n_x, n_h, n_y):\n",
        "    ...\n",
        "    return parameters \n",
        "def linear_activation_forward(A_prev, W, b, activation):\n",
        "    ...\n",
        "    return A, cache\n",
        "def compute_loss(AL, Y):\n",
        "    ...\n",
        "    return loss\n",
        "def linear_activation_backward(dA, cache, activation):\n",
        "    ...\n",
        "    return dA_prev, dW, db\n",
        "def update_parameters(parameters, grads, learning_rate):\n",
        "    ...\n",
        "    return parameters\n",
        "```\n"
      ]
    },
    {
      "cell_type": "code",
      "metadata": {
        "id": "_jG0TA-dSrM8",
        "colab_type": "code",
        "colab": {}
      },
      "source": [
        "### CONSTANTS DEFINING THE MODEL ####\n",
        "n_x = 12288     # num_px * num_px * 3\n",
        "n_h = 7\n",
        "n_y = 1\n",
        "layers_dims = (n_x, n_h, n_y)"
      ],
      "execution_count": 0,
      "outputs": []
    },
    {
      "cell_type": "code",
      "metadata": {
        "id": "jlimDDdxz5YR",
        "colab_type": "code",
        "colab": {}
      },
      "source": [
        "def decay(total_itr, itr, lr, flag):\n",
        "  if (flag):\n",
        "    lr -=lr*(itr)/(10*total_itr)\n",
        "  return lr"
      ],
      "execution_count": 0,
      "outputs": []
    },
    {
      "cell_type": "code",
      "metadata": {
        "id": "E9dwU1wgSrM_",
        "colab_type": "code",
        "colab": {}
      },
      "source": [
        "def two_layer_model(X, Y, layers_dims, learning_rate = 0.012, num_iterations = 3000, print_loss=False, use_decay = False):\n",
        "    \"\"\"\n",
        "    Implements a two-layer neural network: LINEAR->RELU->LINEAR->SIGMOID.\n",
        "    \n",
        "    Arguments:\n",
        "    X -- input data, of shape (n_x, number of examples)\n",
        "    Y -- true \"label\" vector (containing 0 if cat, 1 if non-cat), of shape (1, number of examples)\n",
        "    layers_dims -- dimensions of the layers (n_x, n_h, n_y)\n",
        "    num_iterations -- number of iterations of the optimization loop\n",
        "    learning_rate -- learning rate of the gradient descent update rule\n",
        "    print_loss -- If set to True, this will print the loss every 100 iterations \n",
        "    \n",
        "    Returns:\n",
        "    parameters -- a dictionary containing W1, W2, b1, and b2\n",
        "    \"\"\"\n",
        "    # use_decay = True                        # flag to set decay\n",
        "    init_learning_rate = learning_rate\n",
        "    np.random.seed(1)\n",
        "    grads = {}\n",
        "    losses = []                              # to keep track of the loss\n",
        "    m = X.shape[1]                           # number of examples\n",
        "    (n_x, n_h, n_y) = layers_dims\n",
        "    \n",
        "    # Initialize parameters dictionary, by calling one of the functions you'd previously implemented\n",
        "    ### START CODE HERE ### (≈ 1 line of code)\n",
        "    parameters = initialize_parameters(n_x, n_h, n_y)\n",
        "    ### END CODE HERE ###\n",
        "    \n",
        "    # Get W1, b1, W2 and b2 from the dictionary parameters.\n",
        "    W1 = parameters[\"W1\"]\n",
        "    b1 = parameters[\"b1\"]\n",
        "    W2 = parameters[\"W2\"]\n",
        "    b2 = parameters[\"b2\"]\n",
        "    \n",
        "    # Loop (gradient descent)\n",
        "\n",
        "    for i in range(0, num_iterations):\n",
        "\n",
        "        # Forward propagation: LINEAR -> RELU -> LINEAR -> SIGMOID. Inputs: \"X, W1, b1, W2, b2\". Output: \"A1, cache1, A2, cache2\".\n",
        "        ### START CODE HERE ### (≈ 2 lines of code)\n",
        "        A1, cache1 = linear_activation_forward(X, W1, b1, \"relu\")\n",
        "        A2, cache2 = linear_activation_forward(A1, W2, b2, \"sigmoid\")\n",
        "        # print(A2)\n",
        "        ### END CODE HERE ###\n",
        "        \n",
        "        # Compute loss\n",
        "        ### START CODE HERE ### (≈ 1 line of code)\n",
        "        loss = compute_loss(A2, Y)\n",
        "        ### END CODE HERE ###\n",
        "        \n",
        "        # Initializing backward propagation\n",
        "        dA2 = - (np.divide(Y, A2) - np.divide(1 - Y, 1 - A2)) / m\n",
        "        # Backward propagation. Inputs: \"dA2, cache2, cache1\". Outputs: \"dA1, dW2, db2; also dA0 (not used), dW1, db1\".\n",
        "        ### START CODE HERE ### (≈ 2 lines of code)\n",
        "        dA1, dW2, db2 = linear_activation_backward(dA2, cache2, \"sigmoid\")\n",
        "        dA0, dW1, db1 = linear_activation_backward(dA1, cache1, \"relu\")\n",
        "        \n",
        "        ### END CODE HERE ###\n",
        "        \n",
        "        # Set grads['dWl'] to dW1, grads['db1'] to db1, grads['dW2'] to dW2, grads['db2'] to db2\n",
        "        ### START CODE HERE ### (≈ 4 lines of code)\n",
        "        grads['dW1'] = dW1\n",
        "        grads['dW2'] = dW2\n",
        "        grads['db1'] = db1\n",
        "        grads['db2'] = db2\n",
        "\n",
        "        \n",
        "        \n",
        "        ### END CODE HERE ###\n",
        "        \n",
        "    \n",
        "        # Update parameters.\n",
        "        ### START CODE HERE ### (approx. 1 line of code)\n",
        "        learning_rate = decay(num_iterations, i, init_learning_rate, use_decay)\n",
        "        parameters = update_parameters(parameters, grads, learning_rate)\n",
        "        ### END CODE HERE ###\n",
        "\n",
        "        # Retrieve W1, b1, W2, b2 from parameters\n",
        "        W1 = parameters[\"W1\"]\n",
        "        b1 = parameters[\"b1\"]\n",
        "        W2 = parameters[\"W2\"]\n",
        "        b2 = parameters[\"b2\"]\n",
        "        \n",
        "        # Print the loss every 100 training example\n",
        "        if print_loss and i % 100 == 0:\n",
        "            print(\"Loss after iteration {}: {}\".format(i, np.squeeze(loss)))\n",
        "            print(learning_rate)\n",
        "        if print_loss and i % 100 == 0:\n",
        "            losses.append(loss)\n",
        "       \n",
        "    # plot the loss\n",
        "\n",
        "    plt.plot(np.squeeze(losses))\n",
        "    plt.ylabel('loss')\n",
        "    plt.xlabel('iterations (per tens)')\n",
        "    plt.title(\"Learning rate =\" + str(init_learning_rate) + \", decay = \" + str(use_decay))\n",
        "    plt.show()\n",
        "    \n",
        "    return parameters"
      ],
      "execution_count": 0,
      "outputs": []
    },
    {
      "cell_type": "code",
      "metadata": {
        "id": "Kn8wWdFPSrND",
        "colab_type": "code",
        "colab": {}
      },
      "source": [
        "parameters = two_layer_model(train_x, train_y, layers_dims = (n_x, n_h, n_y),learning_rate=0.014, num_iterations = 2400, print_loss=True, use_decay=False)"
      ],
      "execution_count": 0,
      "outputs": []
    },
    {
      "cell_type": "markdown",
      "metadata": {
        "id": "r7Y_zXbBSrNF",
        "colab_type": "text"
      },
      "source": [
        "**Expected Output**:\n",
        "<table> \n",
        "    <tr>\n",
        "        <td> **Loss after iteration 0**</td>\n",
        "        <td> 0.6930497356599888 </td>\n",
        "    </tr>\n",
        "    <tr>\n",
        "        <td> **Loss after iteration 100**</td>\n",
        "        <td> 0.6464320953428849 </td>\n",
        "    </tr>\n",
        "    <tr>\n",
        "        <td> **...**</td>\n",
        "        <td> ... </td>\n",
        "    </tr>\n",
        "    <tr>\n",
        "        <td> **Loss after iteration 2400**</td>\n",
        "        <td> 0.048554785628770206 </td>\n",
        "    </tr>\n",
        "</table>"
      ]
    },
    {
      "cell_type": "markdown",
      "metadata": {
        "id": "eSwIRY2FSrNG",
        "colab_type": "text"
      },
      "source": [
        "Good thing you built a vectorized implementation! Otherwise it might have taken 10 times longer to train this.\n",
        "\n",
        "Now, you can use the trained parameters to classify images from the dataset. \n",
        "\n",
        "***Exercise:*** \n",
        "- Implement the forward function\n",
        "- Implement the predict function below to make prediction on test_images"
      ]
    },
    {
      "cell_type": "code",
      "metadata": {
        "id": "_U5j_oYWSrNH",
        "colab_type": "code",
        "colab": {}
      },
      "source": [
        "def two_layer_forward(X, parameters):\n",
        "    \"\"\"\n",
        "    Implement forward propagation for the [LINEAR->RELU]*(L-1)->LINEAR->SIGMOID computation\n",
        "    \n",
        "    Arguments:\n",
        "    X -- data, numpy array of shape (input size, number of examples)\n",
        "    parameters -- output of initialize_parameters_deep()\n",
        "    \n",
        "    Returns:\n",
        "    AL -- last post-activation value\n",
        "    caches -- list of caches containing:\n",
        "                every cache of linear_relu_forward() (there are L-1 of them, indexed from 0 to L-2)\n",
        "                the cache of linear_sigmoid_forward() (there is one, indexed L-1)\n",
        "    \"\"\"\n",
        "\n",
        "    caches = []\n",
        "    A = X\n",
        "    \n",
        "    # Implement LINEAR -> RELU. Add \"cache\" to the \"caches\" list.\n",
        "    ### START CODE HERE ### (approx. 3 line of code)\n",
        "    W1 = parameters[\"W1\"]\n",
        "    b1 = parameters[\"b1\"]\n",
        "    A1, cache1 = linear_activation_forward(A, W1, b1, \"relu\")\n",
        "    caches+= [cache1[0], cache1[1]]   \n",
        "    ### END CODE HERE ###\n",
        "\n",
        "    # Implement LINEAR -> SIGMOID. Add \"cache\" to the \"caches\" list.\n",
        "    ### START CODE HERE ### (approx. 3 line of code)\n",
        "    W2 = parameters[\"W2\"]\n",
        "    b2 = parameters[\"b2\"]\n",
        "    A2, cache2 = linear_activation_forward(A1, W2, b2, \"sigmoid\")\n",
        "    caches+=[cache2[0], cache2[1]]    \n",
        "    ### END CODE HERE ###\n",
        "\n",
        "    assert(A2.shape == (1,X.shape[1]))\n",
        "            \n",
        "    return A2, caches"
      ],
      "execution_count": 0,
      "outputs": []
    },
    {
      "cell_type": "code",
      "metadata": {
        "id": "kxQTn33-SrNK",
        "colab_type": "code",
        "colab": {}
      },
      "source": [
        "def predict(X, y, parameters):\n",
        "    \"\"\"\n",
        "    This function is used to predict the results of a  L-layer neural network.\n",
        "    \n",
        "    Arguments:\n",
        "    X -- data set of examples you would like to label\n",
        "    parameters -- parameters of the trained model\n",
        "    \n",
        "    Returns:\n",
        "    p -- predictions for the given dataset X\n",
        "    \"\"\"\n",
        "    \n",
        "    m = X.shape[1]\n",
        "    n = len(parameters) // 2 # number of layers in the neural network\n",
        "    p = np.zeros((1,m))\n",
        "    \n",
        "    # Forward propagation\n",
        "    ### START CODE HERE ### (≈ 1 lines of code)\n",
        "    probas, caches =  two_layer_forward(X, parameters)\n",
        "    ### END CODE HERE ###\n",
        "    # convert probas to 0/1 predictions\n",
        "    for i in range(0, probas.shape[1]):\n",
        "        ### START CODE HERE ### (≈ 4 lines of code)\n",
        "        if probas[0,i] > 0.5:\n",
        "          p[0,i] = 1\n",
        "        else:\n",
        "          p[0,i] = 0       \n",
        "        ### END CODE HERE ###\n",
        "    \n",
        "    print(\"Accuracy: \"  + str(np.sum((p == y)/m)))\n",
        "        \n",
        "    return p"
      ],
      "execution_count": 0,
      "outputs": []
    },
    {
      "cell_type": "code",
      "metadata": {
        "id": "Wsn4_sPeSrNM",
        "colab_type": "code",
        "colab": {}
      },
      "source": [
        "predictions_train = predict(train_x, train_y, parameters)"
      ],
      "execution_count": 0,
      "outputs": []
    },
    {
      "cell_type": "code",
      "metadata": {
        "id": "5AXYU-7QSrNO",
        "colab_type": "code",
        "colab": {}
      },
      "source": [
        "predictions_test = predict(test_x, test_y, parameters)"
      ],
      "execution_count": 0,
      "outputs": []
    },
    {
      "cell_type": "markdown",
      "metadata": {
        "id": "w3tAGwDvSrNR",
        "colab_type": "text"
      },
      "source": [
        "***Exercise:***\n",
        "Identify the hyperparameters in the model and For each hyperparameter\n",
        "- Briefly explain its role\n",
        "- Explore a range of values and describe their impact on (a) training loss and (b) test accuracy\n",
        "- Report the best hyperparameter value found.\n",
        "\n",
        "Note: Provide your results and explanations in the report for this question.\n",
        "\n",
        "%----------------------------------------------------------------------------------------------------------------------------------------------------%\n",
        "\n",
        "*Answer* \\\\\n",
        "\n",
        "1. Weight Initialisation:\n",
        "    - This seems to be one of the most important factor. A very high weight initialisation gives a high loss (Nan) and doesnt converge. Some other initialisations such as ***rand(n)***, ***rand(n)/100***  or ***xavier*** also give a very high loss initially and take time to converge. I used ***rand(n)/(fan_in x fan_out)*** to keep the initialisations low and this seemed to work the best. \n",
        "    - Train loss was Nan and test loss also was Nan for ***rand(n)***, the final loss value settled at a higher value compared to ***rand(n)/(fan_in x fan_out)***. Test accuracy was found to be better with init ***rand(n)/(fan_in x fan_out)***\n",
        "    - Value: param = np.rand.randn(n1,nx)/(n1*nx)\n",
        "\n",
        "2. Epochs:\n",
        "  - This hyper parameter is the number of times the entire data set is shown to the network. \n",
        "  - More epochs improves training accuracy, reduces training loss, in some cases increases training accuracy and reduces training loss but most cases it overfits to training data and hence reduces training accuracy and increases training loss\n",
        "  - For the best accuracy, found that Epochs = 2500. \n",
        "\n",
        "3. Learning Rate: \n",
        "  - This hyper parameter directly dictates how quickly the network converges. \n",
        "  - From the default rate(0.0075) uptil a certain rate(0.011), increasing the learning rate gave lower training loss, better training accuracy and better testing accuracy. Increasing it slightly further was jittery and unstable. Further increasing it made the loss converge at a very high value itself.\n",
        "  - Value : Learning_rate = 0.011(Without decay)\n",
        "\n",
        "4. Decay: (Added seperately)\n",
        "  - Decay in learing rate was added to reduce the learning rate as the number of epochs increases. This is because we expect that the loss valley gets less steeper as we go closer to the opitmal value and hence would like to take smaller steps. This also made sure the intial learning rate could be slighlty increased. \n",
        "  - The network converged quickly, had a lesser training loss and  also had better trainign and testing accuracy. \n",
        "  - Value: Decay = 10% (at the end of training, the learning rate reduces by 10%), hence the learning rate was increased to 0.013.    "
      ]
    },
    {
      "cell_type": "markdown",
      "metadata": {
        "id": "FI4D02rRSrNS",
        "colab_type": "text"
      },
      "source": [
        "##  Results Analysis\n",
        "\n",
        "First, let's take a look at some images the 2-layer model labeled incorrectly. This will show a few mislabeled images."
      ]
    },
    {
      "cell_type": "code",
      "metadata": {
        "id": "5MGsd4y1SrNT",
        "colab_type": "code",
        "colab": {}
      },
      "source": [
        "def print_mislabeled_images(classes, X, y, p):\n",
        "    \"\"\"\n",
        "    Plots images where predictions and truth were different.\n",
        "    X -- dataset\n",
        "    y -- true labels\n",
        "    p -- predictions\n",
        "    \"\"\"\n",
        "    a = p + y\n",
        "    mislabeled_indices = np.asarray(np.where(a == 1))\n",
        "    plt.rcParams['figure.figsize'] = (40.0, 40.0) # set default size of plots\n",
        "    num_images = len(mislabeled_indices[0])\n",
        "    for i in range(num_images):\n",
        "        index = mislabeled_indices[1][i]\n",
        "        \n",
        "        plt.subplot(2, num_images, i + 1)\n",
        "        plt.imshow(X[:,index].reshape(64,64,3), interpolation='nearest')\n",
        "        plt.axis('off')\n",
        "        plt.title(\"Prediction: \" + classes[int(p[0,index])].decode(\"utf-8\") + \" \\n Class: \" + classes[y[0,index]].decode(\"utf-8\"))"
      ],
      "execution_count": 0,
      "outputs": []
    },
    {
      "cell_type": "code",
      "metadata": {
        "id": "vwCOLcMzSrNX",
        "colab_type": "code",
        "colab": {}
      },
      "source": [
        "print_mislabeled_images(classes, test_x, test_y, predictions_test)"
      ],
      "execution_count": 0,
      "outputs": []
    },
    {
      "cell_type": "markdown",
      "metadata": {
        "id": "9iRwybaySrNa",
        "colab_type": "text"
      },
      "source": [
        "***Exercise:*** Identify a few types of images that tends to perform poorly on the model \\\\\n",
        "%---------------------------------------------------------------------------% \\\\\n",
        "*Answer*\n",
        "\n",
        "1.\n",
        "In cases where image objects have stripes/ patters like that of cat's face\n",
        "\n",
        "2.\n",
        "Almost all cat images in data set have eyes open. images where eyes are closed are not classifed as cat. \n",
        "\n",
        "3.\n",
        "Images of the cat in the training data set are ones where only the bust of the cat is visible and hence images with feet might be considered as noise and hence classified as non-cat.\n"
      ]
    },
    {
      "cell_type": "markdown",
      "metadata": {
        "id": "_u4MDAe1SrNb",
        "colab_type": "text"
      },
      "source": [
        "Now, lets use the same architecture to predict sentiment of movie reviews. In \n",
        "this section, most of the implementation is already provided. The exercises are mainly to understand what the workflow is when handling the text data."
      ]
    },
    {
      "cell_type": "code",
      "metadata": {
        "id": "r_shrE3CSrNb",
        "colab_type": "code",
        "colab": {}
      },
      "source": [
        "import re"
      ],
      "execution_count": 0,
      "outputs": []
    },
    {
      "cell_type": "markdown",
      "metadata": {
        "id": "X3FgGHhFSrNf",
        "colab_type": "text"
      },
      "source": [
        "# Dataset"
      ]
    },
    {
      "cell_type": "markdown",
      "metadata": {
        "id": "5Bjy7l2jSrNg",
        "colab_type": "text"
      },
      "source": [
        "**Problem Statement**: You are given a dataset (\"train_imdb.txt\", \"test_imdb.txt\") containing:\n",
        "    - a training set of m_train reviews \n",
        "    - a test set of m_test reviews \n",
        "    - the labels for the training examples are such that the first 50% belong to class 1 (positive) and the rest 50% of the data belong to class 0(negative)\n",
        "    \n",
        "Let's get more familiar with the dataset. Load the data by completing the function and run the cell below."
      ]
    },
    {
      "cell_type": "code",
      "metadata": {
        "id": "d32SFZwvSrNh",
        "colab_type": "code",
        "colab": {}
      },
      "source": [
        "def load_data(train_file, test_file):\n",
        "    train_dataset = []\n",
        "    test_dataset = []\n",
        "    \n",
        "    # Read the training dataset file line by line\n",
        "    for line in open(train_file, 'r'):\n",
        "        train_dataset.append(line.strip())\n",
        "        \n",
        "    for line in open(test_file, 'r'):\n",
        "        test_dataset.append(line.strip())\n",
        "    return train_dataset, test_dataset"
      ],
      "execution_count": 0,
      "outputs": []
    },
    {
      "cell_type": "code",
      "metadata": {
        "id": "NN8BXR9bSrNl",
        "colab_type": "code",
        "colab": {}
      },
      "source": [
        "train_file = \"data/train_imdb.txt\"\n",
        "test_file = \"data/test_imdb.txt\"\n",
        "train_dataset, test_dataset = load_data(train_file, test_file)"
      ],
      "execution_count": 0,
      "outputs": []
    },
    {
      "cell_type": "code",
      "metadata": {
        "id": "aKh4KSPCSrNo",
        "colab_type": "code",
        "colab": {}
      },
      "source": [
        "# This is just how the data is organized. The first 50% data is positive and the rest 50% is negative for both train and test splits.\n",
        "y = [1 if i < len(train_dataset)*0.5 else 0 for i in range(len(train_dataset))]"
      ],
      "execution_count": 0,
      "outputs": []
    },
    {
      "cell_type": "markdown",
      "metadata": {
        "id": "8Vby_UU1SrNq",
        "colab_type": "text"
      },
      "source": [
        "As usual, lets check our dataset "
      ]
    },
    {
      "cell_type": "code",
      "metadata": {
        "id": "Pn9STB8mSrNr",
        "colab_type": "code",
        "colab": {}
      },
      "source": [
        "# Example of a review\n",
        "index = 0\n",
        "print(train_dataset[index])\n",
        "print (\"y = \" + str(y[index]))"
      ],
      "execution_count": 0,
      "outputs": []
    },
    {
      "cell_type": "code",
      "metadata": {
        "id": "NKA5oQLZSrNu",
        "colab_type": "code",
        "colab": {}
      },
      "source": [
        "# Explore your dataset \n",
        "m_train = len(train_dataset)\n",
        "m_test = len(test_dataset)\n",
        "\n",
        "print (\"Number of training examples: \" + str(m_train))\n",
        "print (\"Number of testing examples: \" + str(m_test))"
      ],
      "execution_count": 0,
      "outputs": []
    },
    {
      "cell_type": "markdown",
      "metadata": {
        "id": "asZP-jHnSrNv",
        "colab_type": "text"
      },
      "source": [
        "## Pre-Processing"
      ]
    },
    {
      "cell_type": "markdown",
      "metadata": {
        "id": "cn_Zyq4DSrNx",
        "colab_type": "text"
      },
      "source": [
        "From the example review, you can see that the raw data is really noisy! This is generally the case with the text data. Hence, Preprocessing the raw input and cleaning the text is  essential. Please run the code snippet provided below.\n",
        "\n",
        "**Exercise**: Explain what pattern the model is trying to capture using re.compile in your report. "
      ]
    },
    {
      "cell_type": "code",
      "metadata": {
        "id": "kOgW9oFzSrNx",
        "colab_type": "code",
        "colab": {}
      },
      "source": [
        "REPLACE_NO_SPACE = re.compile(\"(\\.)|(\\;)|(\\:)|(\\!)|(\\')|(\\?)|(\\,)|(\\\")|(\\()|(\\))|(\\[)|(\\])|(\\d+)\")\n",
        "REPLACE_WITH_SPACE = re.compile(\"(<br\\s*/><br\\s*/>)|(\\-)|(\\/)\")\n",
        "NO_SPACE = \"\"\n",
        "SPACE = \" \"\n",
        "\n",
        "def preprocess_reviews(reviews):\n",
        "    \n",
        "    reviews = [REPLACE_NO_SPACE.sub(NO_SPACE, line.lower()) for line in reviews]\n",
        "    reviews = [REPLACE_WITH_SPACE.sub(SPACE, line) for line in reviews]\n",
        "    \n",
        "    return reviews\n",
        "\n",
        "train_dataset_clean = preprocess_reviews(train_dataset)\n",
        "test_dataset_clean = preprocess_reviews(test_dataset)"
      ],
      "execution_count": 0,
      "outputs": []
    },
    {
      "cell_type": "code",
      "metadata": {
        "id": "mxkrG7J5SrN0",
        "colab_type": "code",
        "colab": {}
      },
      "source": [
        "# Example of a clean review\n",
        "index = 7\n",
        "print(train_dataset_clean[index])\n",
        "print (\"y = \" + str(y[index]))"
      ],
      "execution_count": 0,
      "outputs": []
    },
    {
      "cell_type": "markdown",
      "metadata": {
        "id": "FFFkHd5SSrN3",
        "colab_type": "text"
      },
      "source": [
        "## Vectorization"
      ]
    },
    {
      "cell_type": "markdown",
      "metadata": {
        "id": "AjBWOK6GSrN3",
        "colab_type": "text"
      },
      "source": [
        "# Now lets create a feature vector for our reviews based on a simple bag of words model. So, given an input text, we need to create a numerical vector which is simply the vector of word counts for each word of the vocabulary. Run the code below to get the feature representation."
      ]
    },
    {
      "cell_type": "code",
      "metadata": {
        "id": "pP0giep1SrN4",
        "colab_type": "code",
        "colab": {}
      },
      "source": [
        "from sklearn.feature_extraction.text import CountVectorizer\n",
        "\n",
        "cv = CountVectorizer(binary=True, stop_words=\"english\", max_features=2000)\n",
        "cv.fit(train_dataset_clean)\n",
        "X = cv.transform(train_dataset_clean)\n",
        "X_test = cv.transform(test_dataset_clean)"
      ],
      "execution_count": 0,
      "outputs": []
    },
    {
      "cell_type": "markdown",
      "metadata": {
        "id": "QkBSZuJiSrN8",
        "colab_type": "text"
      },
      "source": [
        "CountVectorizer provides a sparse feature representation by default which is reasonable because only some words occur in individual example. However, for training neural network models, we generally use a dense representation vector."
      ]
    },
    {
      "cell_type": "code",
      "metadata": {
        "id": "wUsqaytjSrN8",
        "colab_type": "code",
        "colab": {}
      },
      "source": [
        "X = np.array(X.todense()).astype(float)\n",
        "X_test = np.array(X_test.todense()).astype(float)\n",
        "y = np.array(y)"
      ],
      "execution_count": 0,
      "outputs": []
    },
    {
      "cell_type": "markdown",
      "metadata": {
        "id": "6qJPgeyLSrN_",
        "colab_type": "text"
      },
      "source": [
        "## Model"
      ]
    },
    {
      "cell_type": "code",
      "metadata": {
        "id": "yJw7RTD6SrOA",
        "colab_type": "code",
        "colab": {}
      },
      "source": [
        "from sklearn.metrics import accuracy_score\n",
        "from sklearn.model_selection import train_test_split\n",
        "\n",
        "X_train, X_val, y_train, y_val = train_test_split(\n",
        "    X, y, train_size = 0.80\n",
        ")"
      ],
      "execution_count": 0,
      "outputs": []
    },
    {
      "cell_type": "code",
      "metadata": {
        "id": "LotwEdJISrOF",
        "colab_type": "code",
        "colab": {}
      },
      "source": [
        "# This is just to correct the shape of the arrays as required by the two_layer_model\n",
        "X_train = X_train.T\n",
        "X_val = X_val.T\n",
        "y_train = y_train.reshape(1,-1)\n",
        "y_val = y_val.reshape(1,-1)"
      ],
      "execution_count": 0,
      "outputs": []
    },
    {
      "cell_type": "code",
      "metadata": {
        "id": "PRCNeUg8SrOI",
        "colab_type": "code",
        "colab": {}
      },
      "source": [
        "### CONSTANTS DEFINING THE MODEL ####\n",
        "n_x = X_train.shape[0]    \n",
        "n_h = 200\n",
        "n_y = 1\n",
        "layers_dims = (n_x, n_h, n_y)"
      ],
      "execution_count": 0,
      "outputs": []
    },
    {
      "cell_type": "markdown",
      "metadata": {
        "id": "p0Y1eCtdSrOL",
        "colab_type": "text"
      },
      "source": [
        "We will use the same two layer model that you completed in the previous section for training."
      ]
    },
    {
      "cell_type": "code",
      "metadata": {
        "id": "guAyQvOeSrOM",
        "colab_type": "code",
        "colab": {}
      },
      "source": [
        "parameters = two_layer_model(X_train, y_train, layers_dims = (n_x, n_h, n_y), learning_rate = 0.013,  num_iterations = 2000, print_loss=True, use_decay=True)"
      ],
      "execution_count": 0,
      "outputs": []
    },
    {
      "cell_type": "markdown",
      "metadata": {
        "id": "chIJvj4xSrOO",
        "colab_type": "text"
      },
      "source": [
        "## Predict the review for our movies!"
      ]
    },
    {
      "cell_type": "code",
      "metadata": {
        "id": "PpQEBPIASrOO",
        "colab_type": "code",
        "outputId": "3810525d-c260-4777-b736-aca88679c4e6",
        "colab": {
          "base_uri": "https://localhost:8080/",
          "height": 35
        }
      },
      "source": [
        "predictions_train = predict(X_train, y_train, parameters)"
      ],
      "execution_count": 0,
      "outputs": [
        {
          "output_type": "stream",
          "text": [
            "Accuracy: 0.9512499999999998\n"
          ],
          "name": "stdout"
        }
      ]
    },
    {
      "cell_type": "code",
      "metadata": {
        "id": "hHycZw42SrOR",
        "colab_type": "code",
        "outputId": "5ef159ae-99c8-40aa-f10b-4423a84efcee",
        "colab": {
          "base_uri": "https://localhost:8080/",
          "height": 35
        }
      },
      "source": [
        "predictions_val = predict(X_val, y_val, parameters)"
      ],
      "execution_count": 0,
      "outputs": [
        {
          "output_type": "stream",
          "text": [
            "Accuracy: 0.8059701492537312\n"
          ],
          "name": "stdout"
        }
      ]
    },
    {
      "cell_type": "markdown",
      "metadata": {
        "id": "F8iRwzfQSrOT",
        "colab_type": "text"
      },
      "source": [
        "##  Results Analysis\n",
        "\n",
        "Let's take a look at some examples the 2-layer model labeled incorrectly"
      ]
    },
    {
      "cell_type": "code",
      "metadata": {
        "id": "NdwXFVl1SrOT",
        "colab_type": "code",
        "colab": {}
      },
      "source": [
        "def print_mislabeled_reviews(X, y, p):\n",
        "    \"\"\"\n",
        "    Plots images where predictions and truth were different.\n",
        "    X -- dataset\n",
        "    y -- true labels\n",
        "    p -- predictions\n",
        "    \"\"\"\n",
        "    a = p + y\n",
        "    mislabeled_indices = np.asarray(np.where(a == 1))\n",
        "    plt.rcParams['figure.figsize'] = (40.0, 40.0) # set default size of plots\n",
        "    num_reviews = len(mislabeled_indices[0])\n",
        "    for i in range(num_reviews):\n",
        "        index = mislabeled_indices[1][i]\n",
        "        \n",
        "        print((\" \").join(cv.inverse_transform(X[index])[0]))\n",
        "        print(\"Prediction: \" + str(int(p[0,index])) + \" \\n Class: \" + str(y[0,index]) + \"\\n Index: \" + str(index))"
      ],
      "execution_count": 0,
      "outputs": []
    },
    {
      "cell_type": "code",
      "metadata": {
        "id": "BNRZillWSrOg",
        "colab_type": "code",
        "colab": {}
      },
      "source": [
        "print_mislabeled_reviews(X_val.T, y_val, predictions_val)"
      ],
      "execution_count": 0,
      "outputs": []
    },
    {
      "cell_type": "markdown",
      "metadata": {
        "id": "ZvE2R_QPSrOj",
        "colab_type": "text"
      },
      "source": [
        "**Exercise**: Provide explanation as to why these examples were misclassified below."
      ]
    },
    {
      "cell_type": "markdown",
      "metadata": {
        "id": "cu5av3NaSrOj",
        "colab_type": "text"
      },
      "source": [
        "**Type your answer here**\n",
        "\n",
        "*Answer*\n",
        "\n",
        "In general, reviews are written in a style where positive reviews do focus mostly on positive aspects and are expressed using the pool of positive words. The same holds for negative reviews. However, below are few cases where we could misclasify if not looked carefully at. \\\\\n",
        "\n",
        "1.\n",
        "One style of writing reviews is through comparison. If a person wanted to write a negative review, the person could say \"I expected that the movie would have so and so awesome scenes, expected more from these character **but it was not**.\" The whole mearning of the review changes and there were probably only 2 words indicating that (but, not). Rest of the words would all fall in the positive category and hence our nueral net might not be able to pick up such edge cases. It would work for simple straight forward reviews. Our nueral net is not so smart to give importance to conjunctions. \\\\\n",
        "2.\n",
        "Since we split the words into bag of words, we loose context and hence classification of some reviews might be incorrect. "
      ]
    }
  ]
}